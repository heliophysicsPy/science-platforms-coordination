{
 "cells": [
  {
   "cell_type": "markdown",
   "id": "9d5793ee",
   "metadata": {},
   "source": [
    "# 👋 Welcome to the Heliophysics Core Survey Environment!\n",
    "\n",
    "This cloud-based JupyterLab instance is maintained by the **Science Platforms Coordination IHDEA Working Group**. It provides **zero-install access** to a carefully curated set of Python packages commonly used in heliophysics research—based on real survey data from the community.\n",
    "\n",
    "You are currently in the **Core** environment, optimized for interactive analysis and development workflows. There is an [**Extended** environment](https://binder.opensci.2i2c.cloud/v2/gh/heliophysicsPy/science-platforms-coordination/heliocloud-base-w-survey-extended?urlpath=lab/tree/Welcome.ipynb) that builds on this with more packages.\n",
    "\n",
    "---"
   ]
  },
  {
   "cell_type": "markdown",
   "id": "7415d07d",
   "metadata": {},
   "source": [
    "## 📊 How We Built This Environment\n",
    "\n",
    "This environment was created based on a comprehensive [survey](https://forms.gle/MqJw4f6hQ6ix8e6e6) of heliophysicists about their software usage. We analyzed `pip freeze` outputs from researchers across four identified categories:\n",
    "\n",
    "1. **Data Processing and Analysis Tools**\n",
    "2. **Data Fusion and Visualization**\n",
    "3. **Modeling and Simulations**\n",
    "4. **Software Development and Data Production**\n",
    "\n",
    "### Package Selection Methodology\n",
    "\n",
    "Using a restrictive threshold that filtered out packages that appeared in less than half the responses, we identified strong patterns of package usage:\n",
    "\n",
    "<img src=\"https://i.ibb.co/S4fgmFz8/restrictive-thresholds.png\" alt=\"Restrictive thresholds venn diagram\"/>\n",
    "\n",
    "This **Core Environment** includes:\n",
    "- **32 common packages** used across all categories (numpy, matplotlib, astropy, etc.)\n",
    "- **85 packages** from the large intersection between Data Fusion/Visualization and Software Development\n",
    "- **9 essential packages** promoted from outside that intersection (sunpy, pytest, jupyter, cdflib, netCDF4, Pillow, scikit-image, zarr, numba)\n",
    "\n",
    "**Total: 127 packages** covering many typical heliophysics Python workflows\n",
    "\n",
    "---"
   ]
  },
  {
   "cell_type": "markdown",
   "id": "e9ad5c09",
   "metadata": {},
   "source": [
    "## 🎯 Why Two Environments?\n",
    "\n",
    "We created two environments to balance usability with comprehensiveness:\n",
    "\n",
    "- **Core (this environment)**: For everyday interactive analysis, visualization, and development. Lighter, faster to load, includes the most commonly used tools.\n",
    "- [**Extended**](https://binder.opensci.2i2c.cloud/v2/gh/heliophysicsPy/science-platforms-coordination/heliocloud-base-w-survey-extended?urlpath=lab/tree/Welcome.ipynb): Adds specialized packages for production workflows, documentation generation, and domain-specific data formats.\n",
    "\n",
    "The heavy overlap between Data Fusion/Visualization and Software Development users (85 shared packages!) showed us that most heliophysicists work at this intersection—analyzing data interactively while developing tools. This Core environment serves that sweet spot.\n",
    "\n",
    "---"
   ]
  },
  {
   "cell_type": "markdown",
   "id": "df3466db",
   "metadata": {},
   "source": [
    "## 🚀 What Can You Do Here?\n",
    "\n",
    "- Load and analyze heliophysics data with **sunpy**, **pyspedas**, **astropy**, and **xarray**\n",
    "- Read common data formats using **cdflib** and **netCDF4**\n",
    "- Create interactive visualizations with **matplotlib**, **Pillow**, and the Jupyter ecosystem\n",
    "- Develop and test code with **pytest** and the full scientific Python stack\n",
    "- Process images with **scikit-image** for solar and auroral analysis\n",
    "- Accelerate computations with **numba** and **dask**\n",
    "\n",
    "The environment is fully writable—feel free to `pip install` additional packages as needed. Just note that changes reset when your Binder session ends.\n",
    "\n",
    "---"
   ]
  },
  {
   "cell_type": "markdown",
   "id": "046a1368",
   "metadata": {},
   "source": [
    "## 📦 View Installed Packages\n",
    "\n",
    "Run the cell below to see everything installed in the `notebook` Python environment:"
   ]
  },
  {
   "cell_type": "code",
   "execution_count": null,
   "id": "38299686",
   "metadata": {
    "scrolled": true
   },
   "outputs": [],
   "source": [
    "!conda list -p /srv/conda/envs/notebook"
   ]
  },
  {
   "cell_type": "markdown",
   "id": "afc98a91",
   "metadata": {},
   "source": [
    "---\n",
    "\n",
    "## 💡 Need More Packages?\n",
    "\n",
    "If you find yourself frequently needing packages not already in here, consider using the [**Extended** environment](https://binder.opensci.2i2c.cloud/v2/gh/heliophysicsPy/science-platforms-coordination/heliocloud-base-w-survey-extended?urlpath=lab/tree/Welcome.ipynb) instead. It includes all Core packages plus 63 additional specialized ones.\n",
    "\n",
    "## 🙌 Feedback Welcome!\n",
    "\n",
    "This environment is built by the community, for the community. If you have suggestions for packages that should be in here, or ideas for improving these environments, please let us know through the IHDEA Science Platforms Coordination working group.\n",
    "\n",
    "Happy exploring! ✨"
   ]
  }
 ],
 "metadata": {
  "kernelspec": {
   "display_name": "Python 3 (ipykernel)",
   "language": "python",
   "name": "python3"
  },
  "language_info": {
   "codemirror_mode": {
    "name": "ipython",
    "version": 3
   },
   "file_extension": ".py",
   "mimetype": "text/x-python",
   "name": "python",
   "nbconvert_exporter": "python",
   "pygments_lexer": "ipython3",
   "version": "3.11.11"
  }
 },
 "nbformat": 4,
 "nbformat_minor": 5
}
