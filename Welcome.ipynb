{
 "cells": [
  {
   "cell_type": "markdown",
   "id": "9d5793ee",
   "metadata": {},
   "source": [
    "# 👋 Welcome to the Heliophysics Extended Survey Environment!\n",
    "\n",
    "This cloud-based JupyterLab instance is maintained by the **Science Platforms Coordination IHDEA Working Group**. It provides **zero-install access** to a comprehensive set of Python packages used in heliophysics research—based on real survey data from the community.\n",
    "\n",
    "You are currently in the **Extended** environment, which builds upon our [**Core** environment](https://github.com/heliophysicsPy/science-platforms-coordination/tree/heliocloud-base-w-survey-core) by adding specialized tools for production workflows.\n",
    "\n",
    "Explore more environments at the [IHDEA Science Platforms Coordination GitHub repository](https://github.com/heliophysicsPy/science-platforms-coordination/tree/main).\n",
    "\n",
    "---"
   ]
  },
  {
   "cell_type": "markdown",
   "id": "d3b6b5d7",
   "metadata": {},
   "source": [
    "# 📝 User Survey\n",
    "\n",
    "<a href=\"https://forms.gle/TomnyarRjwrS66Ax5\"><img src=\"https://i.ibb.co/DH68Pp1b/survey-qr.png\" alt=\"User Survey QR Code\" width=\"150\"></a>\n",
    "\n",
    "**Please take this [short survey](https://forms.gle/TomnyarRjwrS66Ax5) after trying the environment. Your feedback will be critical in guiding our future development.** \n",
    "\n",
    "---"
   ]
  },
  {
   "cell_type": "markdown",
   "id": "8376381f-7876-4ea8-b213-9df42b2503eb",
   "metadata": {},
   "source": [
    "## 📓 Notebooks\n",
    "\n",
    "This environment comes with five notebooks to demonstrate capabilities:\n",
    "\n",
    "- **[CloudCatalog_Demo.ipynb](./notebooks/CloudCatalog_Demo.ipynb):** Demo showing how to access catalogs of NASA data available in the cloud\n",
    "- **[Demo_Weekly_MMS_Magnetopause_Crossings.ipynb](./notebooks/Demo_Weekly_MMS_Magnetopause_Crossings.ipynb):** Demo showing how notebooks can be reusable modules for scientific analyses \n",
    "- **[Making_an_Executable_Paper_with_the_Python_in_Heliophysics_Community_to_Foster_Open_Science_and_Improve_Reproducibility.ipynb](./notebooks/Making_an_Executable_Paper_with_the_Python_in_Heliophysics_Community_to_Foster_Open_Science_and_Improve_Reproducibility.ipynb):** Full executable paper comparing magnetosphere models to spacecraft observations using PyHC packages\n",
    "- **[sunpy_and_pyspedas.ipynb](./notebooks/sunpy_and_pyspedas.ipynb):** Demo analyzing a solar event with `sunpy` and `pyspedas`\n",
    "- **[TensorFlow_Boundary_Demo.ipynb](./notebooks/TensorFlow_Boundary_Demo.ipynb):** Toy machine learning example showing basic TensorFlow usage\n",
    "\n",
    "---"
   ]
  },
  {
   "cell_type": "markdown",
   "id": "7415d07d",
   "metadata": {},
   "source": [
    "## 📊 How We Built This Environment\n",
    "\n",
    "This environment was created based on a comprehensive [survey](https://forms.gle/MqJw4f6hQ6ix8e6e6) of heliophysicists about their software usage. We analyzed `pip freeze` outputs from researchers across four identified categories:\n",
    "\n",
    "1. **Data Processing and Analysis Tools**\n",
    "2. **Data Fusion and Visualization**\n",
    "3. **Modeling and Simulations**\n",
    "4. **Software Development and Data Production**\n",
    "\n",
    "### Package Selection Methodology\n",
    "\n",
    "Using a restrictive threshold that filtered out packages that appeared in less than half the responses, we identified strong patterns of package usage:\n",
    "\n",
    "<img src=\"https://i.ibb.co/S4fgmFz8/restrictive-thresholds.png\" alt=\"Restrictive thresholds venn diagram\"/>\n",
    "\n",
    "This **Extended Environment** includes:\n",
    "- All **127 packages** from the Core environment\n",
    "- **29 additional packages** from Software Development ∩ Data Processing (down from 35 because 6 were moved to Core)\n",
    "- **34 additional packages** from Data Fusion ∩ Data Processing (down from 38 because 4 were moved to Core)\n",
    "\n",
    "**Total: 190 packages** providing comprehensive coverage of heliophysics Python workflows\n",
    "\n",
    "---"
   ]
  },
  {
   "cell_type": "markdown",
   "id": "e9ad5c09",
   "metadata": {},
   "source": [
    "## 🎯 Why Two Environments?\n",
    "\n",
    "We created two environments to balance usability with comprehensiveness:\n",
    "\n",
    "- [**Core**](https://github.com/heliophysicsPy/science-platforms-coordination/tree/heliocloud-base-w-survey-core): For everyday interactive analysis, visualization, and development. Lighter, faster to load, includes the most commonly used tools.\n",
    "- **Extended (this environment)**: Adds specialized packages for production workflows, documentation generation, and domain-specific data formats.\n",
    "\n",
    "The heavy overlap between Data Fusion/Visualization and Software Development users (85 shared packages!) showed us that most heliophysicists work at that intersection—analyzing data interactively while developing tools. This Extended environment builds on that to include the less common packages from survey results.\n",
    "\n",
    "---"
   ]
  },
  {
   "cell_type": "markdown",
   "id": "df3466db",
   "metadata": {},
   "source": [
    "## 🚀 What Extra Capabilities Does Extended Provide?\n",
    "\n",
    "Beyond everything in Core, you can, for example:\n",
    "\n",
    "- **Generate documentation** with Sphinx and all its extensions\n",
    "- **Build GUI applications** with PyQt5\n",
    "- **Access specialized archives** with drms (for SDO data) and other domain-specific tools\n",
    "- **Work with more data formats** including HDF5 tables, SOAP services (zeep), and more\n",
    "- **Optimize performance** with additional profiling and compilation tools\n",
    "- **Handle async workflows** with aiohttp, aioftp, and related packages\n",
    "\n",
    "The environment is fully writable—feel free to `pip install` additional packages as needed.  Just note that changes reset when your Binder session ends.\n",
    "\n",
    "---"
   ]
  },
  {
   "cell_type": "markdown",
   "id": "046a1368",
   "metadata": {},
   "source": [
    "## 📦 View Installed Packages\n",
    "\n",
    "Run the cell below to see everything installed in the `notebook` Python environment:"
   ]
  },
  {
   "cell_type": "code",
   "execution_count": null,
   "id": "38299686",
   "metadata": {
    "scrolled": true
   },
   "outputs": [],
   "source": [
    "!conda list -p /srv/conda/envs/notebook"
   ]
  },
  {
   "cell_type": "markdown",
   "id": "afc98a91",
   "metadata": {},
   "source": [
    "---\n",
    "\n",
    "## 🤔 Core vs Extended?\n",
    "\n",
    "- Use [**Core**](https://github.com/heliophysicsPy/science-platforms-coordination/tree/heliocloud-base-w-survey-core) for: Interactive analysis, prototyping, everyday research tasks\n",
    "- Use **Extended** for: Documentation generation, GUI development, working with specialized data formats, production workflows\n",
    "\n",
    "Extended includes everything from Core, so you lose nothing by using it—it just takes a bit longer to load due to the additional 63 packages.\n",
    "\n",
    "## 🙌 Feedback Welcome!\n",
    "\n",
    "This environment is built by the community, for the community. If you have suggestions for improving these environments or notice missing packages important for your work, please let us know through the IHDEA Science Platforms Coordination working group.\n",
    "\n",
    "We are working on ways to cite and share these environments (e.g. via DOIs). We haven't found the perfect solution yet, but it's a top priority for our working group! \n",
    "\n",
    "Happy exploring! ✨"
   ]
  }
 ],
 "metadata": {
  "kernelspec": {
   "display_name": "Python 3 (ipykernel)",
   "language": "python",
   "name": "python3"
  },
  "language_info": {
   "codemirror_mode": {
    "name": "ipython",
    "version": 3
   },
   "file_extension": ".py",
   "mimetype": "text/x-python",
   "name": "python",
   "nbconvert_exporter": "python",
   "pygments_lexer": "ipython3",
   "version": "3.11.11"
  }
 },
 "nbformat": 4,
 "nbformat_minor": 5
}
