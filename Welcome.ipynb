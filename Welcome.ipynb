{
 "cells": [
  {
   "cell_type": "markdown",
   "id": "9d5793ee",
   "metadata": {},
   "source": [
    "# 👋 Welcome to the HelioCloud Base Image!\n",
    "\n",
    "This HelioCloud JupyterLab instance is maintained by the **Science Platforms Coordination IHDEA Working Group**. It is the base image that all our other environments build upon. It provides **zero-install access** to a minimal set of Python packages commonly used in heliophysics research, but as the minimal base image, you should expect to pip/conda install many packages you'll want to use yourself (e.g. at the tops of notebooks).\n",
    "\n",
    "Use this base image if you want the fastest load times, and/or if you're encountering dependency conflicts while trying to add packages to another one of our environments. The other environments may already pre-install the packages you want to use. \n",
    "\n",
    "---"
   ]
  },
  {
   "cell_type": "markdown",
   "id": "96c83027",
   "metadata": {},
   "source": [
    "## 📦 View Installed Packages\n",
    "\n",
    "Run the cell below to see everything installed in the `notebook` Python environment:"
   ]
  },
  {
   "cell_type": "code",
   "execution_count": null,
   "id": "009cdd9a",
   "metadata": {},
   "outputs": [],
   "source": [
    "!conda list -p /srv/conda/envs/notebook"
   ]
  },
  {
   "cell_type": "markdown",
   "id": "afc98a91",
   "metadata": {},
   "source": [
    "## 🙌 Feedback Welcome!\n",
    "\n",
    "This environment is built by the community, for the community. If you have suggestions for improving these environments or notice missing packages important for your work, please let us know through the IHDEA Science Platforms Coordination working group.\n",
    "\n",
    "We are working on ways to cite and share these environments (e.g. via DOIs). We haven't found the perfect solution yet, but it's a top priority for our working group! \n",
    "\n",
    "Happy exploring! ✨"
   ]
  }
 ],
 "metadata": {
  "kernelspec": {
   "display_name": "Python 3 (ipykernel)",
   "language": "python",
   "name": "python3"
  },
  "language_info": {
   "codemirror_mode": {
    "name": "ipython",
    "version": 3
   },
   "file_extension": ".py",
   "mimetype": "text/x-python",
   "name": "python",
   "nbconvert_exporter": "python",
   "pygments_lexer": "ipython3",
   "version": "3.11.11"
  }
 },
 "nbformat": 4,
 "nbformat_minor": 5
}
